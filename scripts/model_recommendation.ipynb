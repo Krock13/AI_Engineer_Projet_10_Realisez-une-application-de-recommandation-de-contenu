{
 "cells": [
  {
   "cell_type": "code",
   "execution_count": 1,
   "metadata": {},
   "outputs": [],
   "source": [
    "import random\n",
    "import os\n",
    "import pickle\n",
    "import pandas as pd\n",
    "import numpy as np\n",
    "from sklearn.metrics.pairwise import cosine_similarity\n",
    "from sklearn.metrics import ndcg_score, average_precision_score\n",
    "import glob\n",
    "from sklearn.neighbors import NearestNeighbors\n",
    "import pickle\n",
    "import scipy.sparse as sp\n",
    "from scipy.sparse import coo_matrix\n",
    "from implicit.als import AlternatingLeastSquares"
   ]
  },
  {
   "cell_type": "code",
   "execution_count": 2,
   "metadata": {},
   "outputs": [
    {
     "name": "stdout",
     "output_type": "stream",
     "text": [
      "Type des données : <class 'numpy.ndarray'>\n",
      "Nombre d'articles : 364047\n",
      "Nombre de dimensions par vecteur : 250\n",
      "Aperçu des 5 premiers vecteurs d'embedding :\n",
      "Article 1 - Taille du vecteur : 250 - Embedding : [-0.16118301 -0.95723313 -0.13794445  0.05085534  0.83005524  0.90136534\n",
      " -0.33514765 -0.55956066 -0.50060284  0.16518293]...\n",
      "Article 2 - Taille du vecteur : 250 - Embedding : [-0.52321565 -0.974058    0.73860806  0.15523443  0.626294    0.48529708\n",
      " -0.71565676 -0.8979958  -0.35974663  0.3982462 ]...\n",
      "Article 3 - Taille du vecteur : 250 - Embedding : [-0.61961854 -0.9729604  -0.20736018 -0.12886102  0.04474759 -0.387535\n",
      " -0.73047674 -0.06612612 -0.75489885 -0.24200428]...\n",
      "Article 4 - Taille du vecteur : 250 - Embedding : [-0.7408434  -0.97574896  0.39169782  0.6417378  -0.26864457  0.19174537\n",
      " -0.82559335 -0.71059096 -0.04009941 -0.11051404]...\n",
      "Article 5 - Taille du vecteur : 250 - Embedding : [-0.2790515  -0.97231525  0.68537366  0.11305604  0.23831514  0.27191275\n",
      " -0.56881577  0.34119362 -0.600554   -0.12564443]...\n"
     ]
    }
   ],
   "source": [
    "# Charger le fichier articles_embeddings.pickle\n",
    "embeddings_path = \"../data/articles_embeddings.pickle\"\n",
    "with open(embeddings_path, 'rb') as f:\n",
    "    articles_embeddings = pickle.load(f)\n",
    "\n",
    "# Vérification de la forme de la matrice d'embeddings\n",
    "print(f\"Type des données : {type(articles_embeddings)}\")\n",
    "print(f\"Nombre d'articles : {articles_embeddings.shape[0]}\")\n",
    "print(f\"Nombre de dimensions par vecteur : {articles_embeddings.shape[1]}\")\n",
    "\n",
    "# Affichage des 5 premiers vecteurs avec leur longueur\n",
    "print(\"Aperçu des 5 premiers vecteurs d'embedding :\")\n",
    "for i, embedding in enumerate(articles_embeddings[:5]):\n",
    "    print(f\"Article {i + 1} - Taille du vecteur : {len(embedding)} - Embedding : {embedding[:10]}...\")"
   ]
  },
  {
   "cell_type": "markdown",
   "metadata": {},
   "source": [
    "## Qu'est-ce que cela signifie concrètement ?\n",
    "- Chaque ligne représente un article.\n",
    "- Les 250 valeurs décrivent ses caractéristiques textuelles sous forme numérique.\n",
    "- Plus deux vecteurs sont proches (en termes de distance), plus les articles qu'ils représentent sont similaires."
   ]
  },
  {
   "cell_type": "code",
   "execution_count": 3,
   "metadata": {},
   "outputs": [
    {
     "name": "stdout",
     "output_type": "stream",
     "text": [
      "Nombre total de lignes : 2988181\n",
      "Aperçu des premières lignes :\n",
      "  user_id        session_id  session_start session_size click_article_id  \\\n",
      "0       0  1506825423271737  1506825423000            2           157541   \n",
      "1       0  1506825423271737  1506825423000            2            68866   \n",
      "2       1  1506825426267738  1506825426000            2           235840   \n",
      "3       1  1506825426267738  1506825426000            2            96663   \n",
      "4       2  1506825435299739  1506825435000            2           119592   \n",
      "\n",
      "  click_timestamp click_environment click_deviceGroup click_os click_country  \\\n",
      "0   1506826828020                 4                 3       20             1   \n",
      "1   1506826858020                 4                 3       20             1   \n",
      "2   1506827017951                 4                 1       17             1   \n",
      "3   1506827047951                 4                 1       17             1   \n",
      "4   1506827090575                 4                 1       17             1   \n",
      "\n",
      "  click_region click_referrer_type  \n",
      "0           20                   2  \n",
      "1           20                   2  \n",
      "2           16                   2  \n",
      "3           16                   2  \n",
      "4           24                   2  \n",
      "Informations générales :\n",
      "<class 'pandas.core.frame.DataFrame'>\n",
      "RangeIndex: 2988181 entries, 0 to 2988180\n",
      "Data columns (total 12 columns):\n",
      " #   Column               Dtype \n",
      "---  ------               ----- \n",
      " 0   user_id              object\n",
      " 1   session_id           object\n",
      " 2   session_start        object\n",
      " 3   session_size         object\n",
      " 4   click_article_id     object\n",
      " 5   click_timestamp      object\n",
      " 6   click_environment    object\n",
      " 7   click_deviceGroup    object\n",
      " 8   click_os             object\n",
      " 9   click_country        object\n",
      " 10  click_region         object\n",
      " 11  click_referrer_type  object\n",
      "dtypes: object(12)\n",
      "memory usage: 273.6+ MB\n",
      "None\n"
     ]
    }
   ],
   "source": [
    "# Chemin du dossier contenant les fichiers de clics\n",
    "clicks_path = \"../data/clicks/\"\n",
    "\n",
    "# Lister tous les fichiers \"clicks_hour_***.csv\"\n",
    "clicks_files = sorted([f for f in os.listdir(clicks_path) if f.startswith(\"clicks_hour_\")])\n",
    "\n",
    "# Charger tous les fichiers et les fusionner en un seul DataFrame\n",
    "clicks_list = []\n",
    "for file in clicks_files:\n",
    "    file_path = os.path.join(clicks_path, file)\n",
    "    df = pd.read_csv(file_path)\n",
    "    clicks_list.append(df)\n",
    "\n",
    "# Fusionner toutes les données\n",
    "clicks_df = pd.concat(clicks_list, ignore_index=True)\n",
    "\n",
    "# Afficher des informations sur les données combinées\n",
    "print(f\"Nombre total de lignes : {len(clicks_df)}\")\n",
    "print(f\"Aperçu des premières lignes :\")\n",
    "print(clicks_df.head())\n",
    "print(\"Informations générales :\")\n",
    "print(clicks_df.info())"
   ]
  },
  {
   "cell_type": "code",
   "execution_count": 4,
   "metadata": {},
   "outputs": [
    {
     "name": "stdout",
     "output_type": "stream",
     "text": [
      "Nombre total de lignes après nettoyage : 2950710\n",
      "Aperçu des données nettoyées :\n",
      "   user_id        session_id  session_start session_size  click_article_id  \\\n",
      "0        0  1506825423271737  1506825423000            2            157541   \n",
      "1        0  1506825423271737  1506825423000            2             68866   \n",
      "2        1  1506825426267738  1506825426000            2            235840   \n",
      "3        1  1506825426267738  1506825426000            2             96663   \n",
      "4        2  1506825435299739  1506825435000            2            119592   \n",
      "\n",
      "          click_timestamp click_environment click_deviceGroup click_os  \\\n",
      "0 2017-10-01 03:00:28.020                 4                 3       20   \n",
      "1 2017-10-01 03:00:58.020                 4                 3       20   \n",
      "2 2017-10-01 03:03:37.951                 4                 1       17   \n",
      "3 2017-10-01 03:04:07.951                 4                 1       17   \n",
      "4 2017-10-01 03:04:50.575                 4                 1       17   \n",
      "\n",
      "  click_country click_region click_referrer_type  \n",
      "0             1           20                   2  \n",
      "1             1           20                   2  \n",
      "2             1           16                   2  \n",
      "3             1           16                   2  \n",
      "4             1           24                   2  \n"
     ]
    }
   ],
   "source": [
    "# Convertir les colonnes importantes en type numérique\n",
    "clicks_df['user_id'] = pd.to_numeric(clicks_df['user_id'], errors='coerce')\n",
    "clicks_df['click_article_id'] = pd.to_numeric(clicks_df['click_article_id'], errors='coerce')\n",
    "clicks_df['click_timestamp'] = pd.to_datetime(clicks_df['click_timestamp'], unit='ms', errors='coerce')\n",
    "\n",
    "# Supprimer les lignes avec des valeurs manquantes\n",
    "clicks_df.dropna(subset=['user_id', 'click_article_id', 'click_timestamp'], inplace=True)\n",
    "\n",
    "# Supprimer les doublons (un clic par utilisateur et article)\n",
    "clicks_df.drop_duplicates(subset=['user_id', 'click_article_id'], inplace=True)\n",
    "\n",
    "# Vérification finale\n",
    "print(f\"Nombre total de lignes après nettoyage : {len(clicks_df)}\")\n",
    "print(f\"Aperçu des données nettoyées :\")\n",
    "print(clicks_df.head())"
   ]
  },
  {
   "cell_type": "code",
   "execution_count": 5,
   "metadata": {},
   "outputs": [
    {
     "name": "stdout",
     "output_type": "stream",
     "text": [
      "Nombre de profils utilisateurs créés : 322897\n",
      "Aperçu des 5 premiers profils :\n",
      "Utilisateur 0 - Vecteur (taille 250): [-0.2103363  -0.96357316 -0.19693483 -0.03603265 -0.35537797 -0.06501008\n",
      " -0.26539654  0.2746106   0.05667167 -0.07157854]...\n",
      "Utilisateur 1 - Vecteur (taille 250): [-0.30157247 -0.9656159  -0.37045392 -0.30028948 -0.2534356  -0.2310031\n",
      " -0.25263694  0.01866199  0.1814787  -0.04513927]...\n",
      "Utilisateur 2 - Vecteur (taille 250): [-0.6273024  -0.9667226  -0.1068523  -0.55297124  0.31660053 -0.20927826\n",
      " -0.5314152  -0.16470814 -0.11809298  0.28117475]...\n",
      "Utilisateur 3 - Vecteur (taille 250): [-0.5952114  -0.9658984  -0.25120276 -0.3851927  -0.1014897  -0.3768533\n",
      " -0.50448596 -0.09360608  0.01020017 -0.27796048]...\n",
      "Utilisateur 4 - Vecteur (taille 250): [ 0.01588762 -0.9651615  -0.10582644 -0.28574044 -0.08624995 -0.58963054\n",
      " -0.3324241   0.0146182  -0.1247003  -0.5037674 ]...\n"
     ]
    }
   ],
   "source": [
    "# Créer un dictionnaire pour associer chaque article à son embedding\n",
    "article_ids = np.arange(articles_embeddings.shape[0])  # Les IDs des articles sont dans l'ordre\n",
    "article_embeddings_dict = dict(zip(article_ids, articles_embeddings))\n",
    "\n",
    "# Associer chaque clic d'utilisateur à l'embedding de l'article\n",
    "def get_embedding(article_id):\n",
    "    return article_embeddings_dict.get(article_id, np.zeros(250))\n",
    "\n",
    "clicks_df['article_embedding'] = clicks_df['click_article_id'].apply(get_embedding)\n",
    "\n",
    "# Créer un profil pour chaque utilisateur en moyennant les embeddings des articles cliqués\n",
    "user_profiles = clicks_df.groupby('user_id')['article_embedding'].apply(\n",
    "    lambda x: np.mean(np.stack(x), axis=0)\n",
    ")\n",
    "\n",
    "# Afficher un aperçu des profils utilisateurs\n",
    "print(f\"Nombre de profils utilisateurs créés : {len(user_profiles)}\")\n",
    "print(\"Aperçu des 5 premiers profils :\")\n",
    "for user_id, profile in user_profiles.head().items():\n",
    "    print(f\"Utilisateur {user_id} - Vecteur (taille {len(profile)}): {profile[:10]}...\")"
   ]
  },
  {
   "cell_type": "code",
   "execution_count": 6,
   "metadata": {},
   "outputs": [
    {
     "name": "stdout",
     "output_type": "stream",
     "text": [
      "Nombre de profils valides : 322897\n",
      "Forme de la matrice des profils : (322897, 250)\n"
     ]
    }
   ],
   "source": [
    "# Filtrer les profils utilisateurs valides\n",
    "valid_user_profiles = {user_id: profile for user_id, profile in user_profiles.items() if profile.shape == (250,)}\n",
    "\n",
    "# Créer une matrice de profils, en remplaçant les vecteurs manquants par des zéros\n",
    "user_profiles_matrix = np.array([valid_user_profiles.get(user_id, np.zeros(250)) for user_id in user_profiles.index])\n",
    "\n",
    "# Vérification de la forme\n",
    "print(f\"Nombre de profils valides : {len(valid_user_profiles)}\")\n",
    "print(f\"Forme de la matrice des profils : {user_profiles_matrix.shape}\")"
   ]
  },
  {
   "cell_type": "code",
   "execution_count": 7,
   "metadata": {},
   "outputs": [
    {
     "name": "stdout",
     "output_type": "stream",
     "text": [
      "Nombre total de recommandations générées : 322897\n",
      "Aperçu des 5 premières recommandations :\n",
      "   user_id                      recommended_articles\n",
      "0        0  [162235, 160966, 162230, 155943, 160079]\n",
      "1        1  [237201, 346278, 156501, 234334, 280341]\n",
      "2        2       [31400, 31920, 25856, 31927, 29828]\n",
      "3        3  [229025, 234127, 235395, 236309, 233769]\n",
      "4        4  [192998, 188797, 193907, 193242, 188911]\n"
     ]
    }
   ],
   "source": [
    "# Nombre de profils par lot pour éviter la surcharge\n",
    "batch_size = 1000\n",
    "\n",
    "# Stocker les recommandations\n",
    "recommendations = []\n",
    "\n",
    "# Calculer la similarité par lot\n",
    "for i in range(0, user_profiles_matrix.shape[0], batch_size):\n",
    "    batch = user_profiles_matrix[i:i + batch_size]\n",
    "    similarity_batch = cosine_similarity(batch, articles_embeddings)\n",
    "\n",
    "    # Trouver les 5 articles les plus proches pour chaque utilisateur du lot\n",
    "    top_5_batch = np.argsort(-similarity_batch, axis=1)[:, :5]\n",
    "\n",
    "    # Stocker les résultats\n",
    "    for user_idx, articles in enumerate(top_5_batch):\n",
    "        user_id = user_profiles.index[i + user_idx]\n",
    "        recommendations.append((user_id, list(articles)))\n",
    "\n",
    "# Créer un DataFrame des recommandations\n",
    "recommendations_df = pd.DataFrame(recommendations, columns=['user_id', 'recommended_articles'])\n",
    "\n",
    "# Afficher un aperçu\n",
    "print(f\"Nombre total de recommandations générées : {len(recommendations_df)}\")\n",
    "print(\"Aperçu des 5 premières recommandations :\")\n",
    "print(recommendations_df.head())"
   ]
  },
  {
   "cell_type": "code",
   "execution_count": null,
   "metadata": {},
   "outputs": [
    {
     "name": "stdout",
     "output_type": "stream",
     "text": [
      "💾 Les recommandations ont été sauvegardées ici : ../data/user_recommendations.csv\n"
     ]
    }
   ],
   "source": [
    "# Sauvegarde des recommandations dans un fichier CSV\n",
    "output_path = \"../data/user_recommendations.csv\"\n",
    "recommendations_df.to_csv(output_path, index=False)\n",
    "\n",
    "print(f\"Les recommandations ont été sauvegardées ici : {output_path}\")"
   ]
  },
  {
   "cell_type": "code",
   "execution_count": null,
   "metadata": {},
   "outputs": [
    {
     "name": "stdout",
     "output_type": "stream",
     "text": [
      "📂 Fichier chargé avec succès depuis : ../data/user_recommendations.csv\n",
      "✨ Nombre total de recommandations chargées : 322897\n",
      "\n",
      "📊 Aperçu des 5 premières lignes :\n",
      "   user_id                               recommended_articles\n",
      "0        0  [np.int64(162235), np.int64(160966), np.int64(...\n",
      "1        1  [np.int64(237201), np.int64(346278), np.int64(...\n",
      "2        2  [np.int64(31400), np.int64(31920), np.int64(25...\n",
      "3        3  [np.int64(229025), np.int64(234127), np.int64(...\n",
      "4        4  [np.int64(192998), np.int64(188797), np.int64(...\n"
     ]
    }
   ],
   "source": [
    "# Chemin du fichier sauvegardé\n",
    "input_path = \"../data/user_recommendations.csv\"\n",
    "\n",
    "# Charger les recommandations depuis le fichier CSV\n",
    "recommendations_df = pd.read_csv(input_path)\n",
    "\n",
    "# Afficher un aperçu pour vérifier le chargement\n",
    "print(f\"Fichier chargé avec succès depuis : {input_path}\")\n",
    "print(f\"Nombre total de recommandations chargées : {len(recommendations_df)}\")\n",
    "print(\"\\nAperçu des 5 premières lignes :\")\n",
    "print(recommendations_df.head())"
   ]
  },
  {
   "cell_type": "code",
   "execution_count": null,
   "metadata": {},
   "outputs": [
    {
     "name": "stdout",
     "output_type": "stream",
     "text": [
      "✨ Après nettoyage avec NumPy, voici un aperçu des 5 premières lignes :\n",
      "   user_id                      recommended_articles\n",
      "0        0  [162235, 160966, 162230, 155943, 160079]\n",
      "1        1  [237201, 346278, 156501, 234334, 280341]\n",
      "2        2       [31400, 31920, 25856, 31927, 29828]\n",
      "3        3  [229025, 234127, 235395, 236309, 233769]\n",
      "4        4  [192998, 188797, 193907, 193242, 188911]\n"
     ]
    }
   ],
   "source": [
    "# Convertir les articles en entiers simples avec NumPy\n",
    "recommendations_df['recommended_articles'] = recommendations_df['recommended_articles'].apply(\n",
    "    lambda x: [int(np.int64(article)) for article in eval(x)]\n",
    ")\n",
    "\n",
    "# Vérification\n",
    "print(f\"Après nettoyage avec NumPy, voici un aperçu des 5 premières lignes :\")\n",
    "print(recommendations_df.head())"
   ]
  },
  {
   "cell_type": "markdown",
   "metadata": {},
   "source": [
    "# Modèle\n",
    "Maintenant qu'on a fait des essais en calcul direct, on va créer un modèle."
   ]
  },
  {
   "cell_type": "code",
   "execution_count": 11,
   "metadata": {},
   "outputs": [],
   "source": [
    "# Charger les données des articles\n",
    "embeddings_path = \"../data/articles_embeddings.pickle\"\n",
    "with open(embeddings_path, 'rb') as f:\n",
    "    articles_embeddings = pickle.load(f)"
   ]
  },
  {
   "cell_type": "code",
   "execution_count": 12,
   "metadata": {},
   "outputs": [
    {
     "name": "stdout",
     "output_type": "stream",
     "text": [
      "Entraînement du modèle KNN...\n"
     ]
    },
    {
     "data": {
      "text/html": [
       "<style>#sk-container-id-1 {\n",
       "  /* Definition of color scheme common for light and dark mode */\n",
       "  --sklearn-color-text: #000;\n",
       "  --sklearn-color-text-muted: #666;\n",
       "  --sklearn-color-line: gray;\n",
       "  /* Definition of color scheme for unfitted estimators */\n",
       "  --sklearn-color-unfitted-level-0: #fff5e6;\n",
       "  --sklearn-color-unfitted-level-1: #f6e4d2;\n",
       "  --sklearn-color-unfitted-level-2: #ffe0b3;\n",
       "  --sklearn-color-unfitted-level-3: chocolate;\n",
       "  /* Definition of color scheme for fitted estimators */\n",
       "  --sklearn-color-fitted-level-0: #f0f8ff;\n",
       "  --sklearn-color-fitted-level-1: #d4ebff;\n",
       "  --sklearn-color-fitted-level-2: #b3dbfd;\n",
       "  --sklearn-color-fitted-level-3: cornflowerblue;\n",
       "\n",
       "  /* Specific color for light theme */\n",
       "  --sklearn-color-text-on-default-background: var(--sg-text-color, var(--theme-code-foreground, var(--jp-content-font-color1, black)));\n",
       "  --sklearn-color-background: var(--sg-background-color, var(--theme-background, var(--jp-layout-color0, white)));\n",
       "  --sklearn-color-border-box: var(--sg-text-color, var(--theme-code-foreground, var(--jp-content-font-color1, black)));\n",
       "  --sklearn-color-icon: #696969;\n",
       "\n",
       "  @media (prefers-color-scheme: dark) {\n",
       "    /* Redefinition of color scheme for dark theme */\n",
       "    --sklearn-color-text-on-default-background: var(--sg-text-color, var(--theme-code-foreground, var(--jp-content-font-color1, white)));\n",
       "    --sklearn-color-background: var(--sg-background-color, var(--theme-background, var(--jp-layout-color0, #111)));\n",
       "    --sklearn-color-border-box: var(--sg-text-color, var(--theme-code-foreground, var(--jp-content-font-color1, white)));\n",
       "    --sklearn-color-icon: #878787;\n",
       "  }\n",
       "}\n",
       "\n",
       "#sk-container-id-1 {\n",
       "  color: var(--sklearn-color-text);\n",
       "}\n",
       "\n",
       "#sk-container-id-1 pre {\n",
       "  padding: 0;\n",
       "}\n",
       "\n",
       "#sk-container-id-1 input.sk-hidden--visually {\n",
       "  border: 0;\n",
       "  clip: rect(1px 1px 1px 1px);\n",
       "  clip: rect(1px, 1px, 1px, 1px);\n",
       "  height: 1px;\n",
       "  margin: -1px;\n",
       "  overflow: hidden;\n",
       "  padding: 0;\n",
       "  position: absolute;\n",
       "  width: 1px;\n",
       "}\n",
       "\n",
       "#sk-container-id-1 div.sk-dashed-wrapped {\n",
       "  border: 1px dashed var(--sklearn-color-line);\n",
       "  margin: 0 0.4em 0.5em 0.4em;\n",
       "  box-sizing: border-box;\n",
       "  padding-bottom: 0.4em;\n",
       "  background-color: var(--sklearn-color-background);\n",
       "}\n",
       "\n",
       "#sk-container-id-1 div.sk-container {\n",
       "  /* jupyter's `normalize.less` sets `[hidden] { display: none; }`\n",
       "     but bootstrap.min.css set `[hidden] { display: none !important; }`\n",
       "     so we also need the `!important` here to be able to override the\n",
       "     default hidden behavior on the sphinx rendered scikit-learn.org.\n",
       "     See: https://github.com/scikit-learn/scikit-learn/issues/21755 */\n",
       "  display: inline-block !important;\n",
       "  position: relative;\n",
       "}\n",
       "\n",
       "#sk-container-id-1 div.sk-text-repr-fallback {\n",
       "  display: none;\n",
       "}\n",
       "\n",
       "div.sk-parallel-item,\n",
       "div.sk-serial,\n",
       "div.sk-item {\n",
       "  /* draw centered vertical line to link estimators */\n",
       "  background-image: linear-gradient(var(--sklearn-color-text-on-default-background), var(--sklearn-color-text-on-default-background));\n",
       "  background-size: 2px 100%;\n",
       "  background-repeat: no-repeat;\n",
       "  background-position: center center;\n",
       "}\n",
       "\n",
       "/* Parallel-specific style estimator block */\n",
       "\n",
       "#sk-container-id-1 div.sk-parallel-item::after {\n",
       "  content: \"\";\n",
       "  width: 100%;\n",
       "  border-bottom: 2px solid var(--sklearn-color-text-on-default-background);\n",
       "  flex-grow: 1;\n",
       "}\n",
       "\n",
       "#sk-container-id-1 div.sk-parallel {\n",
       "  display: flex;\n",
       "  align-items: stretch;\n",
       "  justify-content: center;\n",
       "  background-color: var(--sklearn-color-background);\n",
       "  position: relative;\n",
       "}\n",
       "\n",
       "#sk-container-id-1 div.sk-parallel-item {\n",
       "  display: flex;\n",
       "  flex-direction: column;\n",
       "}\n",
       "\n",
       "#sk-container-id-1 div.sk-parallel-item:first-child::after {\n",
       "  align-self: flex-end;\n",
       "  width: 50%;\n",
       "}\n",
       "\n",
       "#sk-container-id-1 div.sk-parallel-item:last-child::after {\n",
       "  align-self: flex-start;\n",
       "  width: 50%;\n",
       "}\n",
       "\n",
       "#sk-container-id-1 div.sk-parallel-item:only-child::after {\n",
       "  width: 0;\n",
       "}\n",
       "\n",
       "/* Serial-specific style estimator block */\n",
       "\n",
       "#sk-container-id-1 div.sk-serial {\n",
       "  display: flex;\n",
       "  flex-direction: column;\n",
       "  align-items: center;\n",
       "  background-color: var(--sklearn-color-background);\n",
       "  padding-right: 1em;\n",
       "  padding-left: 1em;\n",
       "}\n",
       "\n",
       "\n",
       "/* Toggleable style: style used for estimator/Pipeline/ColumnTransformer box that is\n",
       "clickable and can be expanded/collapsed.\n",
       "- Pipeline and ColumnTransformer use this feature and define the default style\n",
       "- Estimators will overwrite some part of the style using the `sk-estimator` class\n",
       "*/\n",
       "\n",
       "/* Pipeline and ColumnTransformer style (default) */\n",
       "\n",
       "#sk-container-id-1 div.sk-toggleable {\n",
       "  /* Default theme specific background. It is overwritten whether we have a\n",
       "  specific estimator or a Pipeline/ColumnTransformer */\n",
       "  background-color: var(--sklearn-color-background);\n",
       "}\n",
       "\n",
       "/* Toggleable label */\n",
       "#sk-container-id-1 label.sk-toggleable__label {\n",
       "  cursor: pointer;\n",
       "  display: flex;\n",
       "  width: 100%;\n",
       "  margin-bottom: 0;\n",
       "  padding: 0.5em;\n",
       "  box-sizing: border-box;\n",
       "  text-align: center;\n",
       "  align-items: start;\n",
       "  justify-content: space-between;\n",
       "  gap: 0.5em;\n",
       "}\n",
       "\n",
       "#sk-container-id-1 label.sk-toggleable__label .caption {\n",
       "  font-size: 0.6rem;\n",
       "  font-weight: lighter;\n",
       "  color: var(--sklearn-color-text-muted);\n",
       "}\n",
       "\n",
       "#sk-container-id-1 label.sk-toggleable__label-arrow:before {\n",
       "  /* Arrow on the left of the label */\n",
       "  content: \"▸\";\n",
       "  float: left;\n",
       "  margin-right: 0.25em;\n",
       "  color: var(--sklearn-color-icon);\n",
       "}\n",
       "\n",
       "#sk-container-id-1 label.sk-toggleable__label-arrow:hover:before {\n",
       "  color: var(--sklearn-color-text);\n",
       "}\n",
       "\n",
       "/* Toggleable content - dropdown */\n",
       "\n",
       "#sk-container-id-1 div.sk-toggleable__content {\n",
       "  max-height: 0;\n",
       "  max-width: 0;\n",
       "  overflow: hidden;\n",
       "  text-align: left;\n",
       "  /* unfitted */\n",
       "  background-color: var(--sklearn-color-unfitted-level-0);\n",
       "}\n",
       "\n",
       "#sk-container-id-1 div.sk-toggleable__content.fitted {\n",
       "  /* fitted */\n",
       "  background-color: var(--sklearn-color-fitted-level-0);\n",
       "}\n",
       "\n",
       "#sk-container-id-1 div.sk-toggleable__content pre {\n",
       "  margin: 0.2em;\n",
       "  border-radius: 0.25em;\n",
       "  color: var(--sklearn-color-text);\n",
       "  /* unfitted */\n",
       "  background-color: var(--sklearn-color-unfitted-level-0);\n",
       "}\n",
       "\n",
       "#sk-container-id-1 div.sk-toggleable__content.fitted pre {\n",
       "  /* unfitted */\n",
       "  background-color: var(--sklearn-color-fitted-level-0);\n",
       "}\n",
       "\n",
       "#sk-container-id-1 input.sk-toggleable__control:checked~div.sk-toggleable__content {\n",
       "  /* Expand drop-down */\n",
       "  max-height: 200px;\n",
       "  max-width: 100%;\n",
       "  overflow: auto;\n",
       "}\n",
       "\n",
       "#sk-container-id-1 input.sk-toggleable__control:checked~label.sk-toggleable__label-arrow:before {\n",
       "  content: \"▾\";\n",
       "}\n",
       "\n",
       "/* Pipeline/ColumnTransformer-specific style */\n",
       "\n",
       "#sk-container-id-1 div.sk-label input.sk-toggleable__control:checked~label.sk-toggleable__label {\n",
       "  color: var(--sklearn-color-text);\n",
       "  background-color: var(--sklearn-color-unfitted-level-2);\n",
       "}\n",
       "\n",
       "#sk-container-id-1 div.sk-label.fitted input.sk-toggleable__control:checked~label.sk-toggleable__label {\n",
       "  background-color: var(--sklearn-color-fitted-level-2);\n",
       "}\n",
       "\n",
       "/* Estimator-specific style */\n",
       "\n",
       "/* Colorize estimator box */\n",
       "#sk-container-id-1 div.sk-estimator input.sk-toggleable__control:checked~label.sk-toggleable__label {\n",
       "  /* unfitted */\n",
       "  background-color: var(--sklearn-color-unfitted-level-2);\n",
       "}\n",
       "\n",
       "#sk-container-id-1 div.sk-estimator.fitted input.sk-toggleable__control:checked~label.sk-toggleable__label {\n",
       "  /* fitted */\n",
       "  background-color: var(--sklearn-color-fitted-level-2);\n",
       "}\n",
       "\n",
       "#sk-container-id-1 div.sk-label label.sk-toggleable__label,\n",
       "#sk-container-id-1 div.sk-label label {\n",
       "  /* The background is the default theme color */\n",
       "  color: var(--sklearn-color-text-on-default-background);\n",
       "}\n",
       "\n",
       "/* On hover, darken the color of the background */\n",
       "#sk-container-id-1 div.sk-label:hover label.sk-toggleable__label {\n",
       "  color: var(--sklearn-color-text);\n",
       "  background-color: var(--sklearn-color-unfitted-level-2);\n",
       "}\n",
       "\n",
       "/* Label box, darken color on hover, fitted */\n",
       "#sk-container-id-1 div.sk-label.fitted:hover label.sk-toggleable__label.fitted {\n",
       "  color: var(--sklearn-color-text);\n",
       "  background-color: var(--sklearn-color-fitted-level-2);\n",
       "}\n",
       "\n",
       "/* Estimator label */\n",
       "\n",
       "#sk-container-id-1 div.sk-label label {\n",
       "  font-family: monospace;\n",
       "  font-weight: bold;\n",
       "  display: inline-block;\n",
       "  line-height: 1.2em;\n",
       "}\n",
       "\n",
       "#sk-container-id-1 div.sk-label-container {\n",
       "  text-align: center;\n",
       "}\n",
       "\n",
       "/* Estimator-specific */\n",
       "#sk-container-id-1 div.sk-estimator {\n",
       "  font-family: monospace;\n",
       "  border: 1px dotted var(--sklearn-color-border-box);\n",
       "  border-radius: 0.25em;\n",
       "  box-sizing: border-box;\n",
       "  margin-bottom: 0.5em;\n",
       "  /* unfitted */\n",
       "  background-color: var(--sklearn-color-unfitted-level-0);\n",
       "}\n",
       "\n",
       "#sk-container-id-1 div.sk-estimator.fitted {\n",
       "  /* fitted */\n",
       "  background-color: var(--sklearn-color-fitted-level-0);\n",
       "}\n",
       "\n",
       "/* on hover */\n",
       "#sk-container-id-1 div.sk-estimator:hover {\n",
       "  /* unfitted */\n",
       "  background-color: var(--sklearn-color-unfitted-level-2);\n",
       "}\n",
       "\n",
       "#sk-container-id-1 div.sk-estimator.fitted:hover {\n",
       "  /* fitted */\n",
       "  background-color: var(--sklearn-color-fitted-level-2);\n",
       "}\n",
       "\n",
       "/* Specification for estimator info (e.g. \"i\" and \"?\") */\n",
       "\n",
       "/* Common style for \"i\" and \"?\" */\n",
       "\n",
       ".sk-estimator-doc-link,\n",
       "a:link.sk-estimator-doc-link,\n",
       "a:visited.sk-estimator-doc-link {\n",
       "  float: right;\n",
       "  font-size: smaller;\n",
       "  line-height: 1em;\n",
       "  font-family: monospace;\n",
       "  background-color: var(--sklearn-color-background);\n",
       "  border-radius: 1em;\n",
       "  height: 1em;\n",
       "  width: 1em;\n",
       "  text-decoration: none !important;\n",
       "  margin-left: 0.5em;\n",
       "  text-align: center;\n",
       "  /* unfitted */\n",
       "  border: var(--sklearn-color-unfitted-level-1) 1pt solid;\n",
       "  color: var(--sklearn-color-unfitted-level-1);\n",
       "}\n",
       "\n",
       ".sk-estimator-doc-link.fitted,\n",
       "a:link.sk-estimator-doc-link.fitted,\n",
       "a:visited.sk-estimator-doc-link.fitted {\n",
       "  /* fitted */\n",
       "  border: var(--sklearn-color-fitted-level-1) 1pt solid;\n",
       "  color: var(--sklearn-color-fitted-level-1);\n",
       "}\n",
       "\n",
       "/* On hover */\n",
       "div.sk-estimator:hover .sk-estimator-doc-link:hover,\n",
       ".sk-estimator-doc-link:hover,\n",
       "div.sk-label-container:hover .sk-estimator-doc-link:hover,\n",
       ".sk-estimator-doc-link:hover {\n",
       "  /* unfitted */\n",
       "  background-color: var(--sklearn-color-unfitted-level-3);\n",
       "  color: var(--sklearn-color-background);\n",
       "  text-decoration: none;\n",
       "}\n",
       "\n",
       "div.sk-estimator.fitted:hover .sk-estimator-doc-link.fitted:hover,\n",
       ".sk-estimator-doc-link.fitted:hover,\n",
       "div.sk-label-container:hover .sk-estimator-doc-link.fitted:hover,\n",
       ".sk-estimator-doc-link.fitted:hover {\n",
       "  /* fitted */\n",
       "  background-color: var(--sklearn-color-fitted-level-3);\n",
       "  color: var(--sklearn-color-background);\n",
       "  text-decoration: none;\n",
       "}\n",
       "\n",
       "/* Span, style for the box shown on hovering the info icon */\n",
       ".sk-estimator-doc-link span {\n",
       "  display: none;\n",
       "  z-index: 9999;\n",
       "  position: relative;\n",
       "  font-weight: normal;\n",
       "  right: .2ex;\n",
       "  padding: .5ex;\n",
       "  margin: .5ex;\n",
       "  width: min-content;\n",
       "  min-width: 20ex;\n",
       "  max-width: 50ex;\n",
       "  color: var(--sklearn-color-text);\n",
       "  box-shadow: 2pt 2pt 4pt #999;\n",
       "  /* unfitted */\n",
       "  background: var(--sklearn-color-unfitted-level-0);\n",
       "  border: .5pt solid var(--sklearn-color-unfitted-level-3);\n",
       "}\n",
       "\n",
       ".sk-estimator-doc-link.fitted span {\n",
       "  /* fitted */\n",
       "  background: var(--sklearn-color-fitted-level-0);\n",
       "  border: var(--sklearn-color-fitted-level-3);\n",
       "}\n",
       "\n",
       ".sk-estimator-doc-link:hover span {\n",
       "  display: block;\n",
       "}\n",
       "\n",
       "/* \"?\"-specific style due to the `<a>` HTML tag */\n",
       "\n",
       "#sk-container-id-1 a.estimator_doc_link {\n",
       "  float: right;\n",
       "  font-size: 1rem;\n",
       "  line-height: 1em;\n",
       "  font-family: monospace;\n",
       "  background-color: var(--sklearn-color-background);\n",
       "  border-radius: 1rem;\n",
       "  height: 1rem;\n",
       "  width: 1rem;\n",
       "  text-decoration: none;\n",
       "  /* unfitted */\n",
       "  color: var(--sklearn-color-unfitted-level-1);\n",
       "  border: var(--sklearn-color-unfitted-level-1) 1pt solid;\n",
       "}\n",
       "\n",
       "#sk-container-id-1 a.estimator_doc_link.fitted {\n",
       "  /* fitted */\n",
       "  border: var(--sklearn-color-fitted-level-1) 1pt solid;\n",
       "  color: var(--sklearn-color-fitted-level-1);\n",
       "}\n",
       "\n",
       "/* On hover */\n",
       "#sk-container-id-1 a.estimator_doc_link:hover {\n",
       "  /* unfitted */\n",
       "  background-color: var(--sklearn-color-unfitted-level-3);\n",
       "  color: var(--sklearn-color-background);\n",
       "  text-decoration: none;\n",
       "}\n",
       "\n",
       "#sk-container-id-1 a.estimator_doc_link.fitted:hover {\n",
       "  /* fitted */\n",
       "  background-color: var(--sklearn-color-fitted-level-3);\n",
       "}\n",
       "</style><div id=\"sk-container-id-1\" class=\"sk-top-container\"><div class=\"sk-text-repr-fallback\"><pre>NearestNeighbors(metric=&#x27;cosine&#x27;)</pre><b>In a Jupyter environment, please rerun this cell to show the HTML representation or trust the notebook. <br />On GitHub, the HTML representation is unable to render, please try loading this page with nbviewer.org.</b></div><div class=\"sk-container\" hidden><div class=\"sk-item\"><div class=\"sk-estimator fitted sk-toggleable\"><input class=\"sk-toggleable__control sk-hidden--visually\" id=\"sk-estimator-id-1\" type=\"checkbox\" checked><label for=\"sk-estimator-id-1\" class=\"sk-toggleable__label fitted sk-toggleable__label-arrow\"><div><div>NearestNeighbors</div></div><div><a class=\"sk-estimator-doc-link fitted\" rel=\"noreferrer\" target=\"_blank\" href=\"https://scikit-learn.org/1.6/modules/generated/sklearn.neighbors.NearestNeighbors.html\">?<span>Documentation for NearestNeighbors</span></a><span class=\"sk-estimator-doc-link fitted\">i<span>Fitted</span></span></div></label><div class=\"sk-toggleable__content fitted\"><pre>NearestNeighbors(metric=&#x27;cosine&#x27;)</pre></div> </div></div></div></div>"
      ],
      "text/plain": [
       "NearestNeighbors(metric='cosine')"
      ]
     },
     "execution_count": 12,
     "metadata": {},
     "output_type": "execute_result"
    }
   ],
   "source": [
    "# Entraîner un modèle KNN pour le Content-Based Filtering\n",
    "print(\"Entraînement du modèle KNN...\")\n",
    "knn_model = NearestNeighbors(n_neighbors=5, metric='cosine')\n",
    "knn_model.fit(articles_embeddings)"
   ]
  },
  {
   "cell_type": "code",
   "execution_count": 13,
   "metadata": {},
   "outputs": [
    {
     "name": "stdout",
     "output_type": "stream",
     "text": [
      "Modèle CBF sauvegardé ici : ../data/cbf_model.pkl\n"
     ]
    }
   ],
   "source": [
    "# Sauvegarder le modèle entraîné\n",
    "model_path = \"../data/cbf_model.pkl\"\n",
    "with open(model_path, 'wb') as f:\n",
    "    pickle.dump(knn_model, f)\n",
    "\n",
    "print(f\"Modèle CBF sauvegardé ici : {model_path}\")"
   ]
  },
  {
   "cell_type": "code",
   "execution_count": 14,
   "metadata": {},
   "outputs": [],
   "source": [
    "# Chemin du modèle sauvegardé\n",
    "model_path = \"../data/cbf_model.pkl\"\n",
    "\n",
    "# Charger le modèle KNN\n",
    "with open(model_path, 'rb') as f:\n",
    "    knn_model = pickle.load(f)"
   ]
  },
  {
   "cell_type": "code",
   "execution_count": 15,
   "metadata": {},
   "outputs": [
    {
     "name": "stdout",
     "output_type": "stream",
     "text": [
      "Articles recommandés pour l'article 100 :\n",
      "1. Article ID : 100 | Distance : 0.0000\n",
      "2. Article ID : 1085 | Distance : 0.1295\n",
      "3. Article ID : 935 | Distance : 0.1330\n",
      "4. Article ID : 343 | Distance : 0.1359\n",
      "5. Article ID : 1270 | Distance : 0.1373\n"
     ]
    }
   ],
   "source": [
    "# Exemple : Recommander des articles similaires à un article connu (ici, article ID = 100)\n",
    "article_id = 100  # Change cet ID pour tester différents articles\n",
    "article_embedding = articles_embeddings[article_id].reshape(1, -1)\n",
    "\n",
    "# Trouver les 5 articles les plus similaires\n",
    "distances, indices = knn_model.kneighbors(article_embedding)\n",
    "\n",
    "# Afficher les recommandations\n",
    "print(f\"Articles recommandés pour l'article {article_id} :\")\n",
    "for i, index in enumerate(indices[0]):\n",
    "    print(f\"{i + 1}. Article ID : {index} | Distance : {distances[0][i]:.4f}\")"
   ]
  },
  {
   "cell_type": "code",
   "execution_count": 16,
   "metadata": {},
   "outputs": [],
   "source": [
    "# Fonction de prédiction locale\n",
    "def get_recommendations(article_id, n_recommendations=5):\n",
    "    try:\n",
    "        # Récupérer l'embedding de l'article demandé\n",
    "        article_embedding = articles_embeddings[article_id].reshape(1, -1)\n",
    "\n",
    "        # Trouver les articles les plus proches\n",
    "        distances, indices = knn_model.kneighbors(article_embedding, n_neighbors=n_recommendations)\n",
    "\n",
    "        # Afficher les recommandations\n",
    "        recommendations = [{\"article_id\": int(idx), \"distance\": float(dist)} for idx, dist in zip(indices[0], distances[0])]\n",
    "\n",
    "        return recommendations\n",
    "\n",
    "    except IndexError:\n",
    "        return f\"L'article ID {article_id} n'existe pas dans les embeddings.\""
   ]
  },
  {
   "cell_type": "code",
   "execution_count": 17,
   "metadata": {},
   "outputs": [
    {
     "name": "stdout",
     "output_type": "stream",
     "text": [
      "Recommandations pour l'article 100 :\n",
      "[{'article_id': 100, 'distance': 0.0}, {'article_id': 1085, 'distance': 0.12954258918762207}, {'article_id': 935, 'distance': 0.13304436206817627}, {'article_id': 343, 'distance': 0.13586843013763428}, {'article_id': 1270, 'distance': 0.13728368282318115}]\n"
     ]
    }
   ],
   "source": [
    "# Test de la fonction\n",
    "article_id_test = 100\n",
    "print(f\"Recommandations pour l'article {article_id_test} :\")\n",
    "print(get_recommendations(article_id_test))"
   ]
  },
  {
   "cell_type": "markdown",
   "metadata": {},
   "source": [
    "# CF"
   ]
  },
  {
   "cell_type": "code",
   "execution_count": 18,
   "metadata": {},
   "outputs": [],
   "source": [
    "# Chemin du dossier contenant les fichiers de clics\n",
    "clicks_path = \"../data/clicks/\"\n",
    "\n",
    "# Lister tous les fichiers de clics\n",
    "clicks_files = sorted([f for f in os.listdir(clicks_path) if f.startswith(\"clicks_hour_\")])\n",
    "\n",
    "# Charger tous les fichiers et les fusionner\n",
    "clicks_list = []\n",
    "for file in clicks_files:\n",
    "    file_path = os.path.join(clicks_path, file)\n",
    "    df = pd.read_csv(file_path)\n",
    "    clicks_list.append(df[['user_id', 'click_article_id']])\n",
    "\n",
    "# Fusionner les DataFrames en un seul\n",
    "clicks_df = pd.concat(clicks_list, ignore_index=True)"
   ]
  },
  {
   "cell_type": "code",
   "execution_count": 19,
   "metadata": {},
   "outputs": [
    {
     "name": "stdout",
     "output_type": "stream",
     "text": [
      "Matrice sparse créée avec succès !\n",
      "Dimensions : (322897, 46033)\n",
      "Nombre de cellules non nulles (clics) : 2950710\n"
     ]
    }
   ],
   "source": [
    "# Charger les données des clics\n",
    "clicks_df['interaction'] = 1\n",
    "\n",
    "# Convertir les user_id et article_id en indices numériques pour la matrice sparse\n",
    "user_mapping = {user_id: idx for idx, user_id in enumerate(clicks_df['user_id'].unique())}\n",
    "article_mapping = {article_id: idx for idx, article_id in enumerate(clicks_df['click_article_id'].unique())}\n",
    "\n",
    "clicks_df['user_idx'] = clicks_df['user_id'].map(user_mapping)\n",
    "clicks_df['article_idx'] = clicks_df['click_article_id'].map(article_mapping)\n",
    "\n",
    "# Créer une matrice sparse directement\n",
    "sparse_user_item_matrix = coo_matrix(\n",
    "    (clicks_df['interaction'], (clicks_df['user_idx'], clicks_df['article_idx'])),\n",
    "    shape=(len(user_mapping), len(article_mapping))\n",
    ").tocsr()\n",
    "\n",
    "# Afficher les dimensions et la mémoire utilisée\n",
    "print(f\"Matrice sparse créée avec succès !\")\n",
    "print(f\"Dimensions : {sparse_user_item_matrix.shape}\")\n",
    "print(f\"Nombre de cellules non nulles (clics) : {sparse_user_item_matrix.nnz}\")"
   ]
  },
  {
   "cell_type": "code",
   "execution_count": 20,
   "metadata": {},
   "outputs": [
    {
     "name": "stdout",
     "output_type": "stream",
     "text": [
      "Entraînement du modèle ALS...\n"
     ]
    },
    {
     "name": "stderr",
     "output_type": "stream",
     "text": [
      "e:\\Openclassroom\\AI_Engineer\\Projet_10\\work_folder\\env_projet_10\\lib\\site-packages\\implicit\\cpu\\als.py:95: RuntimeWarning: OpenBLAS is configured to use 24 threads. It is highly recommended to disable its internal threadpool by setting the environment variable 'OPENBLAS_NUM_THREADS=1' or by calling 'threadpoolctl.threadpool_limits(1, \"blas\")'. Having OpenBLAS use a threadpool can lead to severe performance issues here.\n",
      "  check_blas_config()\n",
      "e:\\Openclassroom\\AI_Engineer\\Projet_10\\work_folder\\env_projet_10\\lib\\site-packages\\implicit\\utils.py:164: ParameterWarning: Method expects CSR input, and was passed csc_matrix instead. Converting to CSR took 0.02101588249206543 seconds\n",
      "  warnings.warn(\n"
     ]
    },
    {
     "data": {
      "application/vnd.jupyter.widget-view+json": {
       "model_id": "319fa8f0cf004b788e0acfd76a80c410",
       "version_major": 2,
       "version_minor": 0
      },
      "text/plain": [
       "  0%|          | 0/10 [00:00<?, ?it/s]"
      ]
     },
     "metadata": {},
     "output_type": "display_data"
    },
    {
     "name": "stdout",
     "output_type": "stream",
     "text": [
      "Modèle ALS entraîné avec succès !\n"
     ]
    }
   ],
   "source": [
    "# Convertir la matrice en format compatible avec ALS (float32)\n",
    "sparse_user_item_matrix = sparse_user_item_matrix.astype('float32')\n",
    "\n",
    "# Entraîner le modèle ALS\n",
    "print(\"Entraînement du modèle ALS...\")\n",
    "als_model = AlternatingLeastSquares(factors=50, regularization=0.1, iterations=10)\n",
    "\n",
    "# Adapter le modèle aux données\n",
    "als_model.fit(sparse_user_item_matrix.T)\n",
    "\n",
    "print(\"Modèle ALS entraîné avec succès !\")"
   ]
  },
  {
   "cell_type": "code",
   "execution_count": 21,
   "metadata": {},
   "outputs": [
    {
     "name": "stdout",
     "output_type": "stream",
     "text": [
      "Articles recommandés pour l'utilisateur 0 :\n",
      " - Article ID : 202736, Score : 15867.0000\n",
      " - Article ID : 157541, Score : 0.0757\n"
     ]
    }
   ],
   "source": [
    "# Recommander des articles pour un utilisateur (exemple avec user_id = 0)\n",
    "user_id = 0\n",
    "\n",
    "if user_id in user_mapping:\n",
    "    user_idx = user_mapping[user_id]\n",
    "\n",
    "    # Obtenir les recommandations\n",
    "    recommended = als_model.recommend(user_idx, sparse_user_item_matrix[user_idx], N=5)\n",
    "\n",
    "    print(f\"Articles recommandés pour l'utilisateur {user_id} :\")\n",
    "    for rec in recommended:\n",
    "        article_id, score = int(rec[0]), rec[1]  # Conversion en entier\n",
    "\n",
    "        # Convertir l'index en ID original\n",
    "        article_original_id = list(article_mapping.keys())[list(article_mapping.values()).index(article_id)]\n",
    "\n",
    "        print(f\" - Article ID : {article_original_id}, Score : {score:.4f}\")\n",
    "else:\n",
    "    print(f\"L'utilisateur {user_id} n'existe pas dans la matrice.\")"
   ]
  },
  {
   "cell_type": "code",
   "execution_count": 22,
   "metadata": {},
   "outputs": [
    {
     "name": "stdout",
     "output_type": "stream",
     "text": [
      "Modèle ALS sauvegardé avec succès ici : ../data/cf_model.pkl\n"
     ]
    }
   ],
   "source": [
    "# Chemin pour sauvegarder le modèle\n",
    "model_path = \"../data/cf_model.pkl\"\n",
    "\n",
    "# Sauvegarde du modèle ALS\n",
    "with open(model_path, 'wb') as f:\n",
    "    pickle.dump(als_model, f)\n",
    "\n",
    "print(f\"Modèle ALS sauvegardé avec succès ici : {model_path}\")"
   ]
  },
  {
   "cell_type": "markdown",
   "metadata": {},
   "source": [
    "# Combinaison des modèles"
   ]
  },
  {
   "cell_type": "code",
   "execution_count": 23,
   "metadata": {},
   "outputs": [
    {
     "name": "stdout",
     "output_type": "stream",
     "text": [
      "Modèle CBF chargé depuis : ../data/cbf_model.pkl\n",
      "Modèle CF chargé depuis : ../data/cf_model.pkl\n"
     ]
    }
   ],
   "source": [
    "# Chemins des modèles sauvegardés\n",
    "cbf_model_path = \"../data/cbf_model.pkl\"\n",
    "cf_model_path = \"../data/cf_model.pkl\"\n",
    "\n",
    "# Charger le modèle CBF (KNN)\n",
    "with open(cbf_model_path, 'rb') as f:\n",
    "    knn_model = pickle.load(f)\n",
    "print(f\"Modèle CBF chargé depuis : {cbf_model_path}\")\n",
    "\n",
    "# Charger le modèle CF (ALS)\n",
    "with open(cf_model_path, 'rb') as f:\n",
    "    als_model = pickle.load(f)\n",
    "print(f\"Modèle CF chargé depuis : {cf_model_path}\")"
   ]
  },
  {
   "cell_type": "code",
   "execution_count": 24,
   "metadata": {},
   "outputs": [],
   "source": [
    "# Poids pour la combinaison\n",
    "alpha = 0.5  # 50% CBF, 50% CF\n",
    "\n",
    "# Exemple avec un utilisateur spécifique\n",
    "user_id = 0\n",
    "\n",
    "# Recommandations CF (ALS)\n",
    "def get_cf_recommendations(user_id, n=5):\n",
    "    if user_id not in user_mapping:\n",
    "        return {}\n",
    "\n",
    "    user_idx = user_mapping[user_id]\n",
    "    cf_recommendations = als_model.recommend(user_idx, sparse_user_item_matrix[user_idx], N=n)\n",
    "\n",
    "    # Extraire les ID et scores, en s'assurant qu'il n'y ait pas d'autres valeurs\n",
    "    cf_scores = {}\n",
    "    for rec in cf_recommendations:\n",
    "        article_id = int(rec[0])  # Premier élément : ID de l'article\n",
    "        score = float(rec[1])     # Deuxième élément : Score\n",
    "        cf_scores[article_id] = score\n",
    "\n",
    "    return cf_scores"
   ]
  },
  {
   "cell_type": "code",
   "execution_count": 25,
   "metadata": {},
   "outputs": [],
   "source": [
    "# Recommandations CBF (KNN)\n",
    "def get_cbf_recommendations(user_id, n=5):\n",
    "    # Utiliser le profil utilisateur pour recommander (basé sur les embeddings)\n",
    "    if user_id not in user_profiles:\n",
    "        return {}\n",
    "\n",
    "    user_profile = user_profiles[user_id].reshape(1, -1)\n",
    "    distances, indices = knn_model.kneighbors(user_profile, n_neighbors=n)\n",
    "\n",
    "    # Convertir les indices en IDs d'articles\n",
    "    cbf_recommendations = {int(idx): 1 - dist for idx, dist in zip(indices[0], distances[0])}\n",
    "    return cbf_recommendations"
   ]
  },
  {
   "cell_type": "code",
   "execution_count": 26,
   "metadata": {},
   "outputs": [],
   "source": [
    "# Combinaison des scores\n",
    "def get_hybrid_recommendations(user_id, n=5):\n",
    "    cf_scores = get_cf_recommendations(user_id, n * 2)  # Plus large pour mieux fusionner\n",
    "    cbf_scores = get_cbf_recommendations(user_id, n * 2)\n",
    "\n",
    "    # Fusionner les scores\n",
    "    all_articles = set(cf_scores.keys()).union(set(cbf_scores.keys()))\n",
    "    hybrid_scores = {}\n",
    "\n",
    "    for article_id in all_articles:\n",
    "        cf_score = cf_scores.get(article_id, 0)\n",
    "        cbf_score = cbf_scores.get(article_id, 0)\n",
    "        hybrid_score = alpha * cbf_score + (1 - alpha) * cf_score\n",
    "        hybrid_scores[article_id] = hybrid_score\n",
    "\n",
    "    # Trier par score décroissant\n",
    "    sorted_recommendations = sorted(hybrid_scores.items(), key=lambda x: x[1], reverse=True)\n",
    "    return sorted_recommendations[:n]"
   ]
  },
  {
   "cell_type": "code",
   "execution_count": 27,
   "metadata": {},
   "outputs": [
    {
     "name": "stdout",
     "output_type": "stream",
     "text": [
      "Recommandations hybrides pour l'utilisateur 0 :\n",
      " - Article ID : 9261, Score Hybride : 7933.5000\n",
      " - Article ID : 162235, Score Hybride : 0.4374\n",
      " - Article ID : 160966, Score Hybride : 0.4245\n",
      " - Article ID : 162230, Score Hybride : 0.4209\n",
      " - Article ID : 155943, Score Hybride : 0.4209\n"
     ]
    }
   ],
   "source": [
    "# Test des recommandations hybrides\n",
    "hybrid_recommendations = get_hybrid_recommendations(user_id)\n",
    "\n",
    "print(f\"Recommandations hybrides pour l'utilisateur {user_id} :\")\n",
    "for article_id, score in hybrid_recommendations:\n",
    "    print(f\" - Article ID : {article_id}, Score Hybride : {score:.4f}\")"
   ]
  },
  {
   "cell_type": "code",
   "execution_count": null,
   "metadata": {},
   "outputs": [
    {
     "name": "stdout",
     "output_type": "stream",
     "text": [
      "Modèle hybride sauvegardé avec succès ici : ../data/hybrid_model.pkl\n"
     ]
    }
   ],
   "source": [
    "# Créer un dictionnaire avec les modèles et les paramètres\n",
    "hybrid_model = {\n",
    "    'cbf_model': knn_model, # Modèle KNN pour le Content-Based Filtering\n",
    "    'cf_model': als_model, # Modèle ALS utilisé pour le Collaborative Filtering\n",
    "    'alpha': alpha, # Poids pour la combinaison => 50% CBF, 50% CF\n",
    "    'user_mapping': user_mapping, # Dictionnaire qui associe chaque user_id à un indice numérique\n",
    "    'article_mapping': article_mapping # Pareil, mais pour les articles\n",
    "}\n",
    "\n",
    "# Chemin pour sauvegarder le modèle hybride\n",
    "hybrid_model_path = \"../data/hybrid_model.pkl\"\n",
    "\n",
    "# Sauvegarde\n",
    "with open(hybrid_model_path, 'wb') as f:\n",
    "    pickle.dump(hybrid_model, f)\n",
    "\n",
    "print(f\"Modèle hybride sauvegardé avec succès ici : {hybrid_model_path}\")"
   ]
  }
 ],
 "metadata": {
  "kernelspec": {
   "display_name": "env_projet_10",
   "language": "python",
   "name": "python3"
  },
  "language_info": {
   "codemirror_mode": {
    "name": "ipython",
    "version": 3
   },
   "file_extension": ".py",
   "mimetype": "text/x-python",
   "name": "python",
   "nbconvert_exporter": "python",
   "pygments_lexer": "ipython3",
   "version": "3.9.13"
  }
 },
 "nbformat": 4,
 "nbformat_minor": 2
}
