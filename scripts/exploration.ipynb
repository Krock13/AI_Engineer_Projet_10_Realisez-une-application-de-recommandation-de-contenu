{
 "cells": [
  {
   "cell_type": "code",
   "execution_count": null,
   "metadata": {},
   "outputs": [],
   "source": [
    "import pickle\n",
    "import pandas as pd"
   ]
  },
  {
   "cell_type": "code",
   "execution_count": null,
   "metadata": {},
   "outputs": [
    {
     "name": "stdout",
     "output_type": "stream",
     "text": [
      "Type de l'objet chargé : <class 'numpy.ndarray'>\n"
     ]
    }
   ],
   "source": [
    "# Chemin vers le fichier\n",
    "file_path = \"../data/articles_embeddings.pickle\"\n",
    "\n",
    "# Charger le fichier pickle\n",
    "with open(file_path, \"rb\") as file:\n",
    "    data = pickle.load(file)\n",
    "\n",
    "# Afficher le type de l'objet chargé\n",
    "print(f\"Type de l'objet chargé : {type(data)}\")"
   ]
  },
  {
   "cell_type": "code",
   "execution_count": 5,
   "metadata": {},
   "outputs": [
    {
     "name": "stdout",
     "output_type": "stream",
     "text": [
      "Shape (dimensions) de l'array : (364047, 250)\n"
     ]
    }
   ],
   "source": [
    "# Vérifier les dimensions de l'array\n",
    "print(f\"Shape (dimensions) de l'array : {data.shape}\")"
   ]
  },
  {
   "cell_type": "code",
   "execution_count": 6,
   "metadata": {},
   "outputs": [
    {
     "name": "stdout",
     "output_type": "stream",
     "text": [
      "Type des éléments : float32\n"
     ]
    }
   ],
   "source": [
    "# Vérifier le type des éléments\n",
    "print(f\"Type des éléments : {data.dtype}\")"
   ]
  },
  {
   "cell_type": "code",
   "execution_count": 7,
   "metadata": {},
   "outputs": [
    {
     "name": "stdout",
     "output_type": "stream",
     "text": [
      "\n",
      "Aperçu des 5 premières lignes :\n",
      "[[-0.16118301 -0.95723313 -0.13794445 ... -0.231686    0.5974159\n",
      "   0.40962312]\n",
      " [-0.52321565 -0.974058    0.73860806 ...  0.18282819  0.39708954\n",
      "  -0.83436364]\n",
      " [-0.61961854 -0.9729604  -0.20736018 ... -0.44758022  0.8059317\n",
      "  -0.28528407]\n",
      " [-0.7408434  -0.97574896  0.39169782 ... -0.5378381   0.24354108\n",
      "  -0.8853287 ]\n",
      " [-0.2790515  -0.97231525  0.68537366 ... -0.42406067  0.18548405\n",
      "  -0.5802922 ]]\n"
     ]
    }
   ],
   "source": [
    "# Afficher un aperçu des premières lignes\n",
    "print(\"\\nAperçu des 5 premières lignes :\")\n",
    "print(data[:5])"
   ]
  },
  {
   "cell_type": "code",
   "execution_count": 8,
   "metadata": {},
   "outputs": [
    {
     "name": "stdout",
     "output_type": "stream",
     "text": [
      "\n",
      "Statistiques :\n",
      "Min : -0.9986952543258667, Max : 0.9984167218208313\n",
      "Moyenne : 0.004270813427865505, Écart-type : 0.5054007768630981\n"
     ]
    }
   ],
   "source": [
    "# Vérifier si les valeurs sont normalisées\n",
    "print(\"\\nStatistiques :\")\n",
    "print(f\"Min : {data.min()}, Max : {data.max()}\")\n",
    "print(f\"Moyenne : {data.mean()}, Écart-type : {data.std()}\")"
   ]
  },
  {
   "cell_type": "code",
   "execution_count": 11,
   "metadata": {},
   "outputs": [],
   "source": [
    "# Charger le fichier CSV\n",
    "file_path = \"../data/articles_metadata.csv\"\n",
    "df = pd.read_csv(file_path)"
   ]
  },
  {
   "cell_type": "code",
   "execution_count": 12,
   "metadata": {},
   "outputs": [
    {
     "name": "stdout",
     "output_type": "stream",
     "text": [
      "Nombre de lignes et colonnes : (364047, 5)\n",
      "\n",
      "Aperçu des 5 premières lignes :\n",
      "   article_id  category_id  created_at_ts  publisher_id  words_count\n",
      "0           0            0  1513144419000             0          168\n",
      "1           1            1  1405341936000             0          189\n",
      "2           2            1  1408667706000             0          250\n",
      "3           3            1  1408468313000             0          230\n",
      "4           4            1  1407071171000             0          162\n"
     ]
    }
   ],
   "source": [
    "# Afficher un aperçu du fichier\n",
    "print(f\"Nombre de lignes et colonnes : {df.shape}\\n\")\n",
    "print(\"Aperçu des 5 premières lignes :\")\n",
    "print(df.head())"
   ]
  },
  {
   "cell_type": "code",
   "execution_count": 14,
   "metadata": {},
   "outputs": [
    {
     "name": "stdout",
     "output_type": "stream",
     "text": [
      "\n",
      "Valeurs manquantes par colonne :\n",
      "article_id       0\n",
      "category_id      0\n",
      "created_at_ts    0\n",
      "publisher_id     0\n",
      "words_count      0\n",
      "dtype: int64\n"
     ]
    }
   ],
   "source": [
    "# Vérifier s'il y a des valeurs manquantes\n",
    "print(\"\\nValeurs manquantes par colonne :\")\n",
    "print(df.isnull().sum())"
   ]
  },
  {
   "cell_type": "code",
   "execution_count": 16,
   "metadata": {},
   "outputs": [],
   "source": [
    "# Charger le fichier\n",
    "file_path = \"../data/clicks_sample.csv\"\n",
    "df = pd.read_csv(file_path)"
   ]
  },
  {
   "cell_type": "code",
   "execution_count": 17,
   "metadata": {},
   "outputs": [
    {
     "name": "stdout",
     "output_type": "stream",
     "text": [
      "Nombre de lignes et colonnes : (1883, 12)\n",
      "\n",
      "Aperçu des 5 premières lignes :\n",
      "   user_id        session_id  session_start  session_size  click_article_id  \\\n",
      "0        0  1506825423271737  1506825423000             2            157541   \n",
      "1        0  1506825423271737  1506825423000             2             68866   \n",
      "2        1  1506825426267738  1506825426000             2            235840   \n",
      "3        1  1506825426267738  1506825426000             2             96663   \n",
      "4        2  1506825435299739  1506825435000             2            119592   \n",
      "\n",
      "   click_timestamp  click_environment  click_deviceGroup  click_os  \\\n",
      "0    1506826828020                  4                  3        20   \n",
      "1    1506826858020                  4                  3        20   \n",
      "2    1506827017951                  4                  1        17   \n",
      "3    1506827047951                  4                  1        17   \n",
      "4    1506827090575                  4                  1        17   \n",
      "\n",
      "   click_country  click_region  click_referrer_type  \n",
      "0              1            20                    2  \n",
      "1              1            20                    2  \n",
      "2              1            16                    2  \n",
      "3              1            16                    2  \n",
      "4              1            24                    2  \n"
     ]
    }
   ],
   "source": [
    "# Afficher un aperçu\n",
    "print(f\"Nombre de lignes et colonnes : {df.shape}\\n\")\n",
    "print(\"Aperçu des 5 premières lignes :\")\n",
    "print(df.head())"
   ]
  },
  {
   "cell_type": "code",
   "execution_count": 18,
   "metadata": {},
   "outputs": [
    {
     "name": "stdout",
     "output_type": "stream",
     "text": [
      "\n",
      "Noms des colonnes :\n",
      "Index(['user_id', 'session_id', 'session_start', 'session_size',\n",
      "       'click_article_id', 'click_timestamp', 'click_environment',\n",
      "       'click_deviceGroup', 'click_os', 'click_country', 'click_region',\n",
      "       'click_referrer_type'],\n",
      "      dtype='object')\n"
     ]
    }
   ],
   "source": [
    "# Vérifier les noms des colonnes\n",
    "print(\"\\nNoms des colonnes :\")\n",
    "print(df.columns)"
   ]
  },
  {
   "cell_type": "code",
   "execution_count": 19,
   "metadata": {},
   "outputs": [
    {
     "name": "stdout",
     "output_type": "stream",
     "text": [
      "\n",
      "Valeurs manquantes par colonne :\n",
      "user_id                0\n",
      "session_id             0\n",
      "session_start          0\n",
      "session_size           0\n",
      "click_article_id       0\n",
      "click_timestamp        0\n",
      "click_environment      0\n",
      "click_deviceGroup      0\n",
      "click_os               0\n",
      "click_country          0\n",
      "click_region           0\n",
      "click_referrer_type    0\n",
      "dtype: int64\n"
     ]
    }
   ],
   "source": [
    "# Vérifier s'il y a des valeurs manquantes\n",
    "print(\"\\nValeurs manquantes par colonne :\")\n",
    "print(df.isnull().sum())"
   ]
  },
  {
   "cell_type": "code",
   "execution_count": 20,
   "metadata": {},
   "outputs": [
    {
     "name": "stdout",
     "output_type": "stream",
     "text": [
      "\n",
      "Types de données :\n",
      "user_id                int64\n",
      "session_id             int64\n",
      "session_start          int64\n",
      "session_size           int64\n",
      "click_article_id       int64\n",
      "click_timestamp        int64\n",
      "click_environment      int64\n",
      "click_deviceGroup      int64\n",
      "click_os               int64\n",
      "click_country          int64\n",
      "click_region           int64\n",
      "click_referrer_type    int64\n",
      "dtype: object\n"
     ]
    }
   ],
   "source": [
    "# Vérifier les types de données\n",
    "print(\"\\nTypes de données :\")\n",
    "print(df.dtypes)"
   ]
  }
 ],
 "metadata": {
  "kernelspec": {
   "display_name": "env_projet_10",
   "language": "python",
   "name": "python3"
  },
  "language_info": {
   "codemirror_mode": {
    "name": "ipython",
    "version": 3
   },
   "file_extension": ".py",
   "mimetype": "text/x-python",
   "name": "python",
   "nbconvert_exporter": "python",
   "pygments_lexer": "ipython3",
   "version": "3.9.13"
  }
 },
 "nbformat": 4,
 "nbformat_minor": 2
}
